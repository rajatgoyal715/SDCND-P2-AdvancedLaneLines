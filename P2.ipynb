{
  "nbformat": 4,
  "nbformat_minor": 0,
  "metadata": {
    "colab": {
      "name": "P2.ipynb",
      "version": "0.3.2",
      "provenance": [],
      "include_colab_link": true
    },
    "kernelspec": {
      "name": "python3",
      "display_name": "Python 3"
    }
  },
  "cells": [
    {
      "cell_type": "markdown",
      "metadata": {
        "id": "view-in-github",
        "colab_type": "text"
      },
      "source": [
        "<a href=\"https://colab.research.google.com/github/rajatgoyal715/SDCND-P2-AdvancedLaneLines/blob/master/P2.ipynb\" target=\"_parent\"><img src=\"https://colab.research.google.com/assets/colab-badge.svg\" alt=\"Open In Colab\"/></a>"
      ]
    },
    {
      "metadata": {
        "id": "4_4PEQlxnvrx",
        "colab_type": "text"
      },
      "cell_type": "markdown",
      "source": [
        "### Mount Google Drive"
      ]
    },
    {
      "metadata": {
        "id": "7QzstM-DnvLv",
        "colab_type": "code",
        "colab": {
          "base_uri": "https://localhost:8080/",
          "height": 127
        },
        "outputId": "723b882d-5028-4860-eae0-0f03728e8c3d"
      },
      "cell_type": "code",
      "source": [
        "from google.colab import drive\n",
        "drive.mount('/content/gdrive')"
      ],
      "execution_count": 2,
      "outputs": [
        {
          "output_type": "stream",
          "text": [
            "Go to this URL in a browser: https://accounts.google.com/o/oauth2/auth?client_id=947318989803-6bn6qk8qdgf4n4g3pfee6491hc0brc4i.apps.googleusercontent.com&redirect_uri=urn%3Aietf%3Awg%3Aoauth%3A2.0%3Aoob&scope=email%20https%3A%2F%2Fwww.googleapis.com%2Fauth%2Fdocs.test%20https%3A%2F%2Fwww.googleapis.com%2Fauth%2Fdrive%20https%3A%2F%2Fwww.googleapis.com%2Fauth%2Fdrive.photos.readonly%20https%3A%2F%2Fwww.googleapis.com%2Fauth%2Fpeopleapi.readonly&response_type=code\n",
            "\n",
            "Enter your authorization code:\n",
            "··········\n",
            "Mounted at /content/gdrive\n"
          ],
          "name": "stdout"
        }
      ]
    },
    {
      "metadata": {
        "id": "U8_0FZIsoDTt",
        "colab_type": "code",
        "colab": {}
      },
      "cell_type": "code",
      "source": [
        "project_path = '/content/gdrive/My Drive/Colab Notebooks/SDCND/P2-AdvancedLaneLines'"
      ],
      "execution_count": 0,
      "outputs": []
    },
    {
      "metadata": {
        "id": "1SW0O_iVmrnn",
        "colab_type": "text"
      },
      "cell_type": "markdown",
      "source": [
        "### Import Packages"
      ]
    },
    {
      "metadata": {
        "id": "naxuiWTxmrTo",
        "colab_type": "code",
        "colab": {}
      },
      "cell_type": "code",
      "source": [
        "import cv2\n",
        "import numpy as np\n",
        "import matplotlib.pyplot as plt\n",
        "import glob"
      ],
      "execution_count": 0,
      "outputs": []
    },
    {
      "metadata": {
        "id": "DDaIzN87ngsM",
        "colab_type": "text"
      },
      "cell_type": "markdown",
      "source": [
        "### Finding Corners"
      ]
    },
    {
      "metadata": {
        "id": "60-7-Aosma4n",
        "colab_type": "code",
        "colab": {}
      },
      "cell_type": "code",
      "source": [
        "# Store object points and image points\n",
        "objpoints = []\n",
        "imgpoints = []\n",
        "\n",
        "nx = 9\n",
        "ny = 6\n",
        "\n",
        "objp = np.zeros((nx*ny, 3), np.float32)\n",
        "objp[:,:2] = np.mgrid[0:nx, 0:ny].T.reshape(-1, 2)\n",
        "\n",
        "# Read images\n",
        "images = glob.glob(F\"{project_path}/camera_cal/calibration*.jpg\");\n",
        "\n",
        "for image_path in images:\n",
        "    # Read image\n",
        "    image = cv2.imread(image_path)\n",
        "    \n",
        "    # Convert image to grayscale\n",
        "    gray = cv2.cvtColor(image, cv2.COLOR_BGR2GRAY)\n",
        "    \n",
        "    # Find the chessboard corners\n",
        "    ret, corners = cv2.findChessboardCorners(gray, (nx, ny), None)\n",
        "    \n",
        "    # If found corners, append obejct points and image points\n",
        "    if ret == True:\n",
        "        # Append corners\n",
        "        imgpoints.append(corners)\n",
        "        objpoints.append(objp)\n",
        "        \n",
        "        # Draw corners\n",
        "        # src = np.float32([corners[0][0], corners[7][0], corners[40][0], corners[47][0]])"
      ],
      "execution_count": 0,
      "outputs": []
    },
    {
      "metadata": {
        "id": "paaH61-iy5ZO",
        "colab_type": "code",
        "colab": {}
      },
      "cell_type": "code",
      "source": [
        ""
      ],
      "execution_count": 0,
      "outputs": []
    },
    {
      "metadata": {
        "id": "xgERdMAMuAaR",
        "colab_type": "text"
      },
      "cell_type": "markdown",
      "source": [
        "### Camera Calibration"
      ]
    }
  ]
}